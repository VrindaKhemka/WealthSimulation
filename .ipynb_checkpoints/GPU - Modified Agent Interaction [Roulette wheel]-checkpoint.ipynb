{
 "cells": [
  {
   "cell_type": "code",
   "execution_count": 24,
   "metadata": {
    "id": "_1Iw-A07bPDP"
   },
   "outputs": [],
   "source": [
    "import random\n",
    "import matplotlib.pyplot as plt\n",
    "import numpy as np\n",
    "import math\n",
    "\n",
    "class Agent:\n",
    "\n",
    "    def __init__(self):\n",
    "        self.money = 0\n",
    "        self.class_type = 'middle'\n",
    "\n",
    "    def consume(self, seller, amount):\n",
    "          self.money -= amount\n",
    "          seller.money += amount"
   ]
  },
  {
   "cell_type": "code",
   "execution_count": 25,
   "metadata": {},
   "outputs": [],
   "source": [
    "import numba"
   ]
  },
  {
   "cell_type": "code",
   "execution_count": 26,
   "metadata": {
    "id": "EIvYWUr14tyc"
   },
   "outputs": [],
   "source": [
    "\n",
    "@numba.jit(nopython=False)\n",
    "def roulette_wheel_selection(probs):\n",
    "    cumulative_probs = [sum(probs[:i+1]) for i in range(len(probs))]\n",
    "    r = random.random() * cumulative_probs[-1]\n",
    "    for i, prob in enumerate(cumulative_probs):\n",
    "        if r <= prob:\n",
    "            return i\n",
    "\n",
    "@numba.jit(nopython=True)\n",
    "def update_agents_numba(agents, trade_probs, num_agents):\n",
    "    # Pick a random agent as the first agent\n",
    "    agent1_index = random.randint(0, num_agents - 1)\n",
    "    agent1 = agents[agent1_index]\n",
    "\n",
    "    # Get the probabilities for agent1 trading with all other agents\n",
    "    agent_probs = trade_probs[agent1_index]\n",
    "\n",
    "    # Select the second agent using roulette wheel selection based on the calculated probabilities\n",
    "    agent2_index = roulette_wheel_selection(agent_probs)\n",
    "    agent2 = agents[agent2_index]\n",
    "\n",
    "    # Perform the trade between agent1 and agent2\n",
    "    transaction_amount = 0.075 * (agent1.money * agent2.money) / (agent1.money + agent2.money)\n",
    "    agent1.consume(agent2, transaction_amount)\n",
    "\n",
    "    # Update the trade probabilities only for agent1 and agent2 after the trade\n",
    "    for i in range(num_agents):\n",
    "        if i != agent1_index:\n",
    "            trade_prob = math.exp(-abs(agent1.money - agents[i].money))\n",
    "            trade_probs[agent1_index][i] = trade_prob\n",
    "            trade_probs[i][agent1_index] = trade_prob  # Symmetric update\n",
    "\n",
    "        if i != agent2_index:\n",
    "            trade_prob = math.exp(-abs(agent2.money - agents[i].money))\n",
    "            trade_probs[agent2_index][i] = trade_prob\n",
    "            trade_probs[i][agent2_index] = trade_prob  # Symmetric update\n",
    "\n",
    "class Simulation:\n",
    "    def __init__(self, num_agents, num_time_steps):\n",
    "        self.num_agents = num_agents\n",
    "        self.num_time_steps = num_time_steps\n",
    "        self.agents = [Agent() for _ in range(num_agents)]\n",
    "        self.total_tax = 0\n",
    "        self.update_thresholds()\n",
    "        self.update_wealth()\n",
    "        self.rich_agent_wealth = []  \n",
    "        self.middle_agent_wealth = []  \n",
    "        self.poor_agent_wealth = [] \n",
    "        self.rich_agent_classes = [] \n",
    "        self.middle_agent_classes = [] \n",
    "        self.poor_agent_classes = []\n",
    "        self.trade_probs = [[0] * self.num_agents for _ in range(self.num_agents)]\n",
    "        self.segregate_agents()\n",
    "        self.initialize_trade_probabilities()\n",
    "\n",
    "        # Lists to track wealth and class of specific agents\n",
    "        self.rich_agent_wealth = []\n",
    "        self.middle_agent_wealth = []\n",
    "        self.poor_agent_wealth = []\n",
    "        self.rich_agent_classes = []\n",
    "        self.middle_agent_classes = []\n",
    "        self.poor_agent_classes = []\n",
    "\n",
    "    def update_wealth(self):\n",
    "        # Generate random wealth values based on specified percentages\n",
    "        wealth_values = [random.uniform(0.1, 3) for _ in range(int(0.5 * self.num_agents))] + [random.uniform(3, 12) for _ in range(int(0.4 * self.num_agents))] + [random.uniform(12, 50) for _ in range(int(0.1 * self.num_agents))]\n",
    "        random.shuffle(wealth_values)\n",
    "\n",
    "        # Update agent wealth values\n",
    "        for i, agent in enumerate(self.agents):\n",
    "            agent.money = wealth_values[i]\n",
    "\n",
    "    def calculate_tax(self, wealth):\n",
    "        scaled_slab_1 = 3\n",
    "        scaled_slab_2 = 6\n",
    "        scaled_slab_3 = 9\n",
    "        scaled_slab_4 = 12\n",
    "        scaled_slab_5 = 15\n",
    "\n",
    "        if wealth <= scaled_slab_1:\n",
    "            return 0\n",
    "        elif wealth <= scaled_slab_2:\n",
    "            return 0.05 * (wealth - scaled_slab_1)\n",
    "        elif wealth <= scaled_slab_3:\n",
    "            return 0.1 * (wealth - scaled_slab_2) + 0.05 * (scaled_slab_2 - scaled_slab_1)\n",
    "        elif wealth <= scaled_slab_4:\n",
    "            return 0.15 * (wealth - scaled_slab_3) + 0.05 * (scaled_slab_2 - scaled_slab_1) + 0.1 * (scaled_slab_3 - scaled_slab_2)\n",
    "        elif wealth <= scaled_slab_5:\n",
    "            return 0.2 * (wealth - scaled_slab_4) + 0.05 * (scaled_slab_2 - scaled_slab_1) + 0.1 * (scaled_slab_3 - scaled_slab_2) + 0.15 * (scaled_slab_4 - scaled_slab_3)\n",
    "        else:\n",
    "            return 0.3 * (wealth - scaled_slab_5) + 0.05 * (scaled_slab_2 - scaled_slab_1) + 0.1 * (scaled_slab_3 - scaled_slab_2) + 0.15 * (scaled_slab_4 - scaled_slab_3) + 0.2 * (scaled_slab_5 - scaled_slab_4)\n",
    "\n",
    "    def calculate_trade_prob(self, agent1, agent2):\n",
    "        wealth_diff = abs(agent1.money - agent2.money)\n",
    "        return math.exp(-wealth_diff)\n",
    "\n",
    "    def initialize_trade_probabilities(self):\n",
    "        # Initialize the matrix with trade probabilities for all pairs of agents\n",
    "        for i in range(self.num_agents):\n",
    "            for j in range(i + 1, self.num_agents):\n",
    "                trade_prob = self.calculate_trade_prob(self.agents[i], self.agents[j])\n",
    "                self.trade_probs[i][j] = trade_prob\n",
    "                self.trade_probs[j][i] = trade_prob  # Symmetric matrix\n",
    "\n",
    "    def update_trade_probabilities(self, agent1_index, agent2_index):\n",
    "        # Update probabilities involving agent1 and agent2 only\n",
    "        for i in range(self.num_agents):\n",
    "            if i != agent1_index:\n",
    "                self.trade_probs[agent1_index][i] = self.calculate_trade_prob(self.agents[agent1_index], self.agents[i])\n",
    "                self.trade_probs[i][agent1_index] = self.trade_probs[agent1_index][i]  # Symmetric update\n",
    "\n",
    "            if i != agent2_index:\n",
    "                self.trade_probs[agent2_index][i] = self.calculate_trade_prob(self.agents[agent2_index], self.agents[i])\n",
    "                self.trade_probs[i][agent2_index] = self.trade_probs[agent2_index][i]  # Symmetric update\n",
    "\n",
    "    def update_agents(self):\n",
    "        update_agents_numba(self.agents, self.trade_probs, self.num_agents)\n",
    "\n",
    "    def deduct_tax(self):\n",
    "        for agent in self.agents:\n",
    "            tax = self.calculate_tax(agent.money)\n",
    "            agent.money -= tax\n",
    "            self.total_tax += tax\n",
    "\n",
    "    def redist(self):\n",
    "        add_val = self.total_tax / self.num_agents\n",
    "        for agent in self.agents:\n",
    "            agent.money += add_val\n",
    "        self.total_tax = 0\n",
    "\n",
    "    def update_thresholds(self):\n",
    "        wealths = [agent.money for agent in self.agents]\n",
    "        sorted_wealths = np.sort(wealths)\n",
    "\n",
    "        self.lower_threshold = np.percentile(sorted_wealths, 25)\n",
    "        self.middle_threshold = np.percentile(sorted_wealths, 50)\n",
    "        self.upper_threshold = np.percentile(sorted_wealths, 75)\n",
    "\n",
    "    def segregate_agents(self):\n",
    "        for agent in self.agents:\n",
    "            if agent.money < self.lower_threshold:\n",
    "                self.poor_agent_wealth.append(agent.money)\n",
    "                self.poor_agent_classes.append(agent)\n",
    "            elif agent.money < self.middle_threshold:\n",
    "                self.middle_agent_wealth.append(agent.money)\n",
    "                self.middle_agent_classes.append(agent)\n",
    "            else:\n",
    "                self.rich_agent_wealth.append(agent.money)\n",
    "                self.rich_agent_classes.append(agent)\n",
    "\n",
    "    def run_simulation(self):\n",
    "        for _ in range(self.num_time_steps):\n",
    "            self.update_agents()\n",
    "            self.deduct_tax()\n",
    "            self.redist()\n",
    "            self.segregate_agents()\n",
    "\n",
    "    def __str__(self):\n",
    "        return f\"Simulation with {self.num_agents} agents and {self.num_time_steps} time steps\""
   ]
  },
  {
   "cell_type": "code",
   "execution_count": 27,
   "metadata": {
    "id": "O1dJPMDJc7bV"
   },
   "outputs": [],
   "source": [
    "def gini_coefficient(wealths):\n",
    "    n = len(wealths)\n",
    "    if n == 0:\n",
    "        return 0\n",
    "\n",
    "    # Step 1: Sort the wealth list\n",
    "    sorted_wealths = np.sort(wealths)\n",
    "\n",
    "    # Step 2: Calculate the mean absolute difference\n",
    "    diff_matrix = np.abs(sorted_wealths[:, None] - sorted_wealths)\n",
    "    mean_abs_diff = np.mean(diff_matrix)\n",
    "\n",
    "    # Step 3: Compute the mean wealth\n",
    "    mean_wealth = np.mean(sorted_wealths)\n",
    "\n",
    "    # Step 4: Compute the Gini coefficient\n",
    "    gini_index = mean_abs_diff / (2 * mean_wealth)\n",
    "    return gini_index\n"
   ]
  },
  {
   "cell_type": "code",
   "execution_count": 28,
   "metadata": {
    "colab": {
     "base_uri": "https://localhost:8080/",
     "height": 1000
    },
    "id": "66ELiFOdo55l",
    "outputId": "c9960233-4d33-410d-b1b4-18a546a54512"
   },
   "outputs": [
    {
     "ename": "AttributeError",
     "evalue": "'Simulation' object has no attribute 'rich_agent_wealth'",
     "output_type": "error",
     "traceback": [
      "\u001b[1;31m---------------------------------------------------------------------------\u001b[0m",
      "\u001b[1;31mAttributeError\u001b[0m                            Traceback (most recent call last)",
      "Cell \u001b[1;32mIn[28], line 6\u001b[0m\n\u001b[0;32m      4\u001b[0m gini_indices\u001b[38;5;241m=\u001b[39m []\n\u001b[0;32m      5\u001b[0m \u001b[38;5;66;03m# Initialize the simulation\u001b[39;00m\n\u001b[1;32m----> 6\u001b[0m sim \u001b[38;5;241m=\u001b[39m \u001b[43mSimulation\u001b[49m\u001b[43m(\u001b[49m\u001b[43mnum_agents\u001b[49m\u001b[43m,\u001b[49m\u001b[43m \u001b[49m\u001b[43mnum_time_steps\u001b[49m\u001b[43m)\u001b[49m\n\u001b[0;32m      8\u001b[0m \u001b[38;5;66;03m# Run simulation for a total of 500 iterations, segregating after each redistribution\u001b[39;00m\n\u001b[0;32m      9\u001b[0m \u001b[38;5;28;01mfor\u001b[39;00m i \u001b[38;5;129;01min\u001b[39;00m \u001b[38;5;28mrange\u001b[39m(\u001b[38;5;241m50\u001b[39m):\n",
      "Cell \u001b[1;32mIn[26], line 46\u001b[0m, in \u001b[0;36mSimulation.__init__\u001b[1;34m(self, num_agents, num_time_steps)\u001b[0m\n\u001b[0;32m     44\u001b[0m \u001b[38;5;28mself\u001b[39m\u001b[38;5;241m.\u001b[39mupdate_thresholds()\n\u001b[0;32m     45\u001b[0m \u001b[38;5;28mself\u001b[39m\u001b[38;5;241m.\u001b[39mupdate_wealth()\n\u001b[1;32m---> 46\u001b[0m \u001b[38;5;28;43mself\u001b[39;49m\u001b[38;5;241;43m.\u001b[39;49m\u001b[43msegregate_agents\u001b[49m\u001b[43m(\u001b[49m\u001b[43m)\u001b[49m\n\u001b[0;32m     47\u001b[0m \u001b[38;5;28mself\u001b[39m\u001b[38;5;241m.\u001b[39mrich_agent_wealth \u001b[38;5;241m=\u001b[39m []  \n\u001b[0;32m     48\u001b[0m \u001b[38;5;28mself\u001b[39m\u001b[38;5;241m.\u001b[39mmiddle_agent_wealth \u001b[38;5;241m=\u001b[39m []  \n",
      "Cell \u001b[1;32mIn[26], line 148\u001b[0m, in \u001b[0;36mSimulation.segregate_agents\u001b[1;34m(self)\u001b[0m\n\u001b[0;32m    146\u001b[0m     \u001b[38;5;28mself\u001b[39m\u001b[38;5;241m.\u001b[39mmiddle_agent_classes\u001b[38;5;241m.\u001b[39mappend(agent)\n\u001b[0;32m    147\u001b[0m \u001b[38;5;28;01melse\u001b[39;00m:\n\u001b[1;32m--> 148\u001b[0m     \u001b[38;5;28;43mself\u001b[39;49m\u001b[38;5;241;43m.\u001b[39;49m\u001b[43mrich_agent_wealth\u001b[49m\u001b[38;5;241m.\u001b[39mappend(agent\u001b[38;5;241m.\u001b[39mmoney)\n\u001b[0;32m    149\u001b[0m     \u001b[38;5;28mself\u001b[39m\u001b[38;5;241m.\u001b[39mrich_agent_classes\u001b[38;5;241m.\u001b[39mappend(agent)\n",
      "\u001b[1;31mAttributeError\u001b[0m: 'Simulation' object has no attribute 'rich_agent_wealth'"
     ]
    }
   ],
   "source": [
    "# Simulation parameters\n",
    "num_agents = 1000\n",
    "num_time_steps = 100000\n",
    "gini_indices= []\n",
    "# Initialize the simulation\n",
    "sim = Simulation(num_agents, num_time_steps)\n",
    "\n",
    "# Run simulation for a total of 500 iterations, segregating after each redistribution\n",
    "for i in range(50):\n",
    "    sim.run_simulation()\n",
    "    if i % 50 == 0:  # Update thresholds every 50 iterations\n",
    "        sim.update_thresholds()\n",
    "    sim.segregate_agents()\n",
    "    if i == 1:  # Select agents to track after initial segregation\n",
    "        sim.select_and_track_agents()\n",
    "    elif i>1:\n",
    "        # Record wealth and class of the tracked agents\n",
    "        sim.rich_agent_wealth.append(sim.rich_agent.money)\n",
    "        sim.middle_agent_wealth.append(sim.middle_agent.money)\n",
    "        sim.poor_agent_wealth.append(sim.poor_agent.money)\n",
    "\n",
    "        sim.record_agent_classes()\n",
    "    current_wealths = [agent.money for agent in sim.agents]\n",
    "    gini_index = gini_coefficient(current_wealths)\n",
    "    gini_indices.append(gini_index)\n",
    "    print(\"Iteration \", i + 1, \" complete\")\n",
    "\n",
    "# Plot the wealth of the tracked agents\n",
    "plt.figure(figsize=(12, 6))\n",
    "plt.subplot(1, 2, 1)\n",
    "plt.plot(sim.rich_agent_wealth, label='Rich Agent')\n",
    "plt.plot(sim.middle_agent_wealth, label='Middle Agent')\n",
    "plt.plot(sim.poor_agent_wealth, label='Poor Agent')\n",
    "plt.xlabel('Iteration')\n",
    "plt.ylabel('Wealth')\n",
    "plt.legend()\n",
    "\n",
    "# Plot the Gini coefficient over iterations\n",
    "plt.subplot(1, 2, 2)\n",
    "plt.plot(gini_indices, label='Gini Index')\n",
    "plt.xlabel('Iteration')\n",
    "plt.ylabel('Gini Index')\n",
    "plt.legend()\n",
    "\n",
    "plt.show()\n",
    "# Analyze class changes\n",
    "def analyze_class_changes(agent_classes, agent_label):\n",
    "    changes = 0\n",
    "    for i in range(1, len(agent_classes)):\n",
    "        if agent_classes[i] != agent_classes[i - 1]:\n",
    "            changes += 1\n",
    "    print(f\"{agent_label} changed class {changes} times.\")\n",
    "\n",
    "analyze_class_changes(sim.rich_agent_classes, \"Rich Agent\")\n",
    "analyze_class_changes(sim.middle_agent_classes, \"Middle Agent\")\n",
    "analyze_class_changes(sim.poor_agent_classes, \"Poor Agent\")\n",
    "\n"
   ]
  },
  {
   "cell_type": "code",
   "execution_count": null,
   "metadata": {
    "colab": {
     "base_uri": "https://localhost:8080/",
     "height": 472
    },
    "id": "dQvwLUQ_AGJD",
    "outputId": "fdc1b47d-66de-48d6-a7d1-a1f5fa5971c7"
   },
   "outputs": [],
   "source": [
    "wealths = [agent.money for agent in sim.agents]\n",
    "plt.hist(wealths, bins=50, edgecolor='black')\n",
    "plt.xlabel('Wealth')\n",
    "plt.ylabel('Number of Agents')\n",
    "plt.title('Wealth Distribution at End of Simulation')\n",
    "plt.show()"
   ]
  },
  {
   "cell_type": "code",
   "execution_count": null,
   "metadata": {
    "colab": {
     "base_uri": "https://localhost:8080/",
     "height": 450
    },
    "id": "0F8SNlPEtn3S",
    "outputId": "68641d79-170e-4fa0-977d-dc3165dfae06"
   },
   "outputs": [],
   "source": [
    "# Plot the wealth of the tracked agents\n",
    "plt.plot(sim.rich_agent_wealth, label='Rich Agent')\n",
    "# plt.plot(sim.middle_agent_wealth, label='Middle Agent')\n",
    "plt.plot(sim.poor_agent_wealth, label='Poor Agent')\n",
    "plt.xlabel('Iteration')\n",
    "plt.ylabel('Wealth')\n",
    "plt.legend()\n",
    "plt.show()"
   ]
  },
  {
   "cell_type": "code",
   "execution_count": null,
   "metadata": {
    "colab": {
     "base_uri": "https://localhost:8080/"
    },
    "id": "AldKqec711h_",
    "outputId": "c9717987-bf72-40e3-8186-02a0dfd972e3"
   },
   "outputs": [],
   "source": [
    "np.mean(gini_indices)"
   ]
  },
  {
   "cell_type": "code",
   "execution_count": null,
   "metadata": {
    "colab": {
     "base_uri": "https://localhost:8080/"
    },
    "id": "Ug7-3nb5KlPK",
    "outputId": "0990ed52-c274-41cf-90c1-a40adb5ea2ae"
   },
   "outputs": [],
   "source": [
    "gini_indices[-1]"
   ]
  },
  {
   "cell_type": "code",
   "execution_count": null,
   "metadata": {
    "id": "Uu6IrSYtKnY8"
   },
   "outputs": [],
   "source": []
  }
 ],
 "metadata": {
  "accelerator": "GPU",
  "colab": {
   "gpuType": "T4",
   "provenance": []
  },
  "kernelspec": {
   "display_name": "Python 3 (ipykernel)",
   "language": "python",
   "name": "python3"
  },
  "language_info": {
   "codemirror_mode": {
    "name": "ipython",
    "version": 3
   },
   "file_extension": ".py",
   "mimetype": "text/x-python",
   "name": "python",
   "nbconvert_exporter": "python",
   "pygments_lexer": "ipython3",
   "version": "3.11.0"
  }
 },
 "nbformat": 4,
 "nbformat_minor": 4
}
