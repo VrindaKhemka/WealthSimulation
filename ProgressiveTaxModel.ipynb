{
  "nbformat": 4,
  "nbformat_minor": 0,
  "metadata": {
    "colab": {
      "provenance": []
    },
    "kernelspec": {
      "name": "python3",
      "display_name": "Python 3"
    },
    "language_info": {
      "name": "python"
    }
  },
  "cells": [
    {
      "cell_type": "code",
      "source": [
        "import random\n",
        "import matplotlib.pyplot as plt"
      ],
      "metadata": {
        "id": "g3wfOOPQnnU5"
      },
      "execution_count": 113,
      "outputs": []
    },
    {
      "cell_type": "code",
      "source": [
        "class Agent:\n",
        "    def __init__(self, initial_wealth):\n",
        "        self.no_of_product = 0\n",
        "        self.price_of_product = 0\n",
        "        self.money = initial_wealth\n",
        "\n",
        "    def allot_goods(self):\n",
        "        self.no_of_product = random.randint(1, 10)  # allocate a random number of goods between 1 and 10\n",
        "        self.price_of_product = random.randint(10, 100)  # allocate a random price between 10.00 and 100.00\n",
        "\n",
        "    def allot_money(self):\n",
        "        self.money = random.randint(100, 500)\n",
        "\n",
        "    def buy_goods(self, other_agent, num_goods, price):\n",
        "        if random.random() < 0.1:  # 10% chance of buying goods\n",
        "            self.no_of_product += num_goods\n",
        "            self.money -= num_goods * price\n",
        "            other_agent.no_of_product -= num_goods\n",
        "            other_agent.money += num_goods * price"
      ],
      "metadata": {
        "id": "s5CC5SNon0ch"
      },
      "execution_count": 114,
      "outputs": []
    },
    {
      "cell_type": "code",
      "execution_count": 115,
      "metadata": {
        "id": "K07ywjqqMGi6"
      },
      "outputs": [],
      "source": [
        "class Simulation:\n",
        "    def __init__(self, num_agents, initial_wealth, num_time_steps, probability_dist, buy_prob, tax_model):\n",
        "        self.num_agents = num_agents\n",
        "        self.initial_wealth = initial_wealth\n",
        "        self.num_time_steps = num_time_steps\n",
        "        self.probability_dist = probability_dist\n",
        "        self.buy_prob = buy_prob\n",
        "        self.tax_model = tax_model\n",
        "        self.agents = [Agent(initial_wealth) for _ in range(num_agents)]\n",
        "        self.total_tax = 0\n",
        "\n",
        "    def update_agents(self):\n",
        "        random_indices = random.sample(range(self.num_agents), 2)\n",
        "        agent1, agent2 = self.agents[random_indices[0]], self.agents[random_indices[1]]\n",
        "\n",
        "        # Apply taxation individually to each agent\n",
        "        tax1 = self.tax_model.calculate_tax(agent1)\n",
        "        tax2 = self.tax_model.calculate_tax(agent2)\n",
        "        self.total_tax += tax1 + tax2\n",
        "        agent1.money -= tax1\n",
        "        agent2.money -= tax2\n",
        "\n",
        "        if random.random() < self.buy_prob:\n",
        "            if agent1.money >= agent2.price_of_product:\n",
        "                agent1.buy_goods(agent2, 1, agent2.price_of_product)\n",
        "                agent1.money -= agent2.price_of_product\n",
        "                agent2.money += agent2.price_of_product\n",
        "\n",
        "                # Randomly adjust the number of goods and price\n",
        "                agent2.no_of_product += random.randint(-1, 1)\n",
        "                agent2.price_of_product += random.uniform(-10, 10)\n",
        "\n",
        "    def run_simulation(self):\n",
        "        for _ in range(self.num_time_steps):\n",
        "            self.update_agents()\n",
        "\n",
        "        # Redistribute the accumulated tax\n",
        "        redistributed_amount = self.total_tax / self.num_agents\n",
        "        for agent in self.agents:\n",
        "            agent.money += redistributed_amount\n",
        "\n",
        "    def print_stats(self):\n",
        "        total_wealth = sum(agent.money for agent in self.agents)\n",
        "        avg_wealth = total_wealth / self.num_agents\n",
        "        print(f\"Total wealth: {total_wealth}, Average wealth: {avg_wealth}\")"
      ]
    },
    {
      "cell_type": "code",
      "source": [
        "class TaxModel:\n",
        "    def calculate_tax(self, agent):\n",
        "        raise NotImplementedError\n",
        "\n",
        "class ProgressiveTaxModel(TaxModel):\n",
        "    def __init__(self, brackets):\n",
        "        self.brackets = brackets\n",
        "\n",
        "    def calculate_tax(self, agent):\n",
        "        wealth = agent.money\n",
        "        tax = 0\n",
        "        for threshold, rate in self.brackets:\n",
        "            if wealth > threshold:\n",
        "                tax += (wealth - threshold) * rate\n",
        "                wealth = threshold\n",
        "        return tax"
      ],
      "metadata": {
        "id": "AKsllazOnsuL"
      },
      "execution_count": 116,
      "outputs": []
    },
    {
      "cell_type": "code",
      "source": [
        "# Define tax brackets for the progressive tax model\n",
        "tax_brackets = [(100, 0.1), (450, 0.2), (1000, 0.32)]\n",
        "progressive_tax_model = ProgressiveTaxModel(tax_brackets)\n",
        "\n",
        "num_agents = 100\n",
        "initial_wealth = 500\n",
        "num_time_steps = 10000\n",
        "probability_dist = (0.05, 0.95)\n",
        "\n",
        "sim = Simulation(num_agents, initial_wealth, num_time_steps, probability_dist, 0.1, progressive_tax_model)\n",
        "sim.run_simulation()"
      ],
      "metadata": {
        "id": "AOI22fByn7YF"
      },
      "execution_count": 117,
      "outputs": []
    },
    {
      "cell_type": "code",
      "source": [
        "# Get the final wealth distribution\n",
        "wealth_distribution = [agent.money for agent in sim.agents]\n",
        "print(f\"Minimum wealth: {min(wealth_distribution)}, Maximum wealth: {max(wealth_distribution)}\")\n",
        "print(f\"Mean wealth: {sum(wealth_distribution) / num_agents:.2f}, Median wealth: {sorted(wealth_distribution)[num_agents//2]:.2f}\")\n",
        "\n",
        "plt.style.use(\"bmh\")\n",
        "plt.hist(wealth_distribution, density=True, alpha=0.6)\n",
        "plt.title(\"Wealth Distribution\", size=17, pad=10)\n",
        "plt.xlabel(\"Wealth\")\n",
        "plt.ylabel(\"\")\n",
        "plt.grid(False)\n",
        "plt.xticks(range(0, int(max(wealth_distribution)) + 100, 100))\n",
        "plt.show()"
      ],
      "metadata": {
        "colab": {
          "base_uri": "https://localhost:8080/",
          "height": 516
        },
        "id": "E0_5JOcNoH0v",
        "outputId": "062f916b-4331-4791-f9ff-d89ee14afa12"
      },
      "execution_count": 118,
      "outputs": [
        {
          "output_type": "stream",
          "name": "stdout",
          "text": [
            "Minimum wealth: 211.5587865999454, Maximum wealth: 581.3423137929342\n",
            "Mean wealth: 500.00, Median wealth: 516.10\n"
          ]
        },
        {
          "output_type": "display_data",
          "data": {
            "text/plain": [
              "<Figure size 640x480 with 1 Axes>"
            ],
            "image/png": "[encoded data removed]"
          },
          "metadata": {}
        }
      ]
    }
  ]
}